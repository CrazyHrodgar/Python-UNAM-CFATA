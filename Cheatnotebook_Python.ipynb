{
  "nbformat": 4,
  "nbformat_minor": 0,
  "metadata": {
    "colab": {
      "name": "Cheatnotebook-Python",
      "provenance": [],
      "collapsed_sections": [
        "7LH3AD-Vk5uE",
        "4RV9LncHpUkO",
        "_31L8Uyjkat7",
        "9NyFQhM4wZxn",
        "wP6zEFSO7QPn",
        "PSCwWTlrSl2q"
      ]
    },
    "kernelspec": {
      "name": "python3",
      "display_name": "Python 3"
    }
  },
  "cells": [
    {
      "cell_type": "markdown",
      "metadata": {
        "id": "yr1ioXSTkiN3"
      },
      "source": [
        "# Cheat Notebook\n",
        "\n",
        "Bienvienidos al curso de Python y Tensorflow. En este cuaderno econtrarán de manera resumida todos los comandos y operaciones que vimos durante el programa. "
      ]
    },
    {
      "cell_type": "markdown",
      "metadata": {
        "id": "7LH3AD-Vk5uE"
      },
      "source": [
        "# El entorno de Google Colab\n",
        "\n",
        "Como vimos, el manejo de software lo hicimos con la herramienta Google Colaboratory, que a grandes rasgos es un cuaderno de interactivo en la nube. \n",
        "\n",
        "Para ingresar texto debemos ingresar una celda de texto y dar doble click en ella.\n",
        "\n",
        "En el cuaderno podemos agregar texto, listas, enlaces, ecuaciones e incluso imágenes para dar mayor explicabilidad a nuestro código.\n",
        "\n",
        "Veamos algunos ejemplos\n",
        "\n",
        "**Esto es un texto en negritas**\n",
        "\n",
        "*Esto es un texto en itálicas*\n",
        "\n",
        "1. Primer elemento de una lista\n",
        "2. Segundo elemento de una lista\n",
        "3. Tercer elemento de una lista\n",
        "\n",
        "* Elemento de lista sin orden específico\n",
        "* Elemento de lista sin orden específico"
      ]
    },
    {
      "cell_type": "markdown",
      "metadata": {
        "id": "Z-G73BX2mGZg"
      },
      "source": [
        "También se pueden escribir ecuaciones, solo deben poner el texto entre los simbolos $$. Veamos algunos ejemplos:\n",
        "\n"
      ]
    },
    {
      "cell_type": "markdown",
      "metadata": {
        "id": "1YRIg8ZVoItM"
      },
      "source": [
        "$y=x^2$\n",
        "\n",
        "$F=ma$\n",
        "\n",
        "$K=\\frac{mv^2}{2}$"
      ]
    },
    {
      "cell_type": "markdown",
      "metadata": {
        "id": "LkMAa6ZnoxeM"
      },
      "source": [
        "Sin embargo, las ecuaciones que deseemos ingresar deben de ir en una celda de texto aparte."
      ]
    },
    {
      "cell_type": "markdown",
      "metadata": {
        "id": "UlBt00IkpG5d"
      },
      "source": [
        "Ya que vimos algunas de las ventajas del entorno, ahora sí, vamos a programar en Python."
      ]
    },
    {
      "cell_type": "markdown",
      "metadata": {
        "id": "4RV9LncHpUkO"
      },
      "source": [
        "# Sintaxis básica de Python\n",
        "\n",
        "Python, al igual que muchos lenguajes de programación cuenta con sus propias reglas de escritura.\n",
        "\n"
      ]
    },
    {
      "cell_type": "markdown",
      "metadata": {
        "id": "g137fshdtRVS"
      },
      "source": [
        "Python sigue una indentación jerarquizada. ¿Qué quiere decir esto? Que usa los espacios y las sangrías para determinar el orden de ejecución del código. Por lo tanto, debemos tener mucho cuidad al escribir nuestro código y verificar que las instrucciones estén en el nivel que queremos.\n",
        "\n",
        "Para que esto quede claro veamos algunos ejemplos."
      ]
    },
    {
      "cell_type": "code",
      "metadata": {
        "id": "tkeUFeLKtC1Q"
      },
      "source": [
        "1+1\n",
        "2+2"
      ],
      "execution_count": null,
      "outputs": []
    },
    {
      "cell_type": "markdown",
      "metadata": {
        "id": "csDbK3N3tzrS"
      },
      "source": [
        "La celda anteriror no marca error porque las dos líneas están al mismo nivel"
      ]
    },
    {
      "cell_type": "code",
      "metadata": {
        "id": "-PtQxzh2ux2g"
      },
      "source": [
        "1*10\n",
        "  5*5"
      ],
      "execution_count": null,
      "outputs": []
    },
    {
      "cell_type": "markdown",
      "metadata": {
        "id": "bR9A3qq2uxHY"
      },
      "source": [
        "Caso contrario de la celda anterior, donde nos indica que hay un error de indentación. \n",
        "\n",
        "Esta orden nos servirá cuando trabajemos con funciones, definiciones y operaciones lógicas."
      ]
    },
    {
      "cell_type": "code",
      "metadata": {
        "id": "awA6iqOJvZPB"
      },
      "source": [
        "# Un ejemplo donde usaremos la indentación es en la función if\n",
        "if 10 < 100:\n",
        "  print('Verdadero')"
      ],
      "execution_count": null,
      "outputs": []
    },
    {
      "cell_type": "markdown",
      "metadata": {
        "id": "vhTjdXGLvkns"
      },
      "source": [
        "La indentación indica qué se ejecuta primero y qué se ejecuta después"
      ]
    },
    {
      "cell_type": "markdown",
      "metadata": {
        "id": "poVbgi3Bv2PN"
      },
      "source": [
        "## Variables\n",
        "\n",
        "En Python, como en la mayoría de los lenguajes de programación, se puede asignar un valor arbitrario a una variable.\n",
        "\n",
        "Las variables pueden contener cualquier tipo de dato, objeto o estructura de datos.\n",
        "\n",
        "En Python no es necesario indicar qué tipo de dato almecenará una variable.\n",
        "\n",
        "Existen ciertas restricciones para las variables:\n",
        "* No pueden comenzar con números\n",
        "* No puede haber espacios en el nombre\n",
        "* No puede tener simbolos especiales como: <>,(),@,%, etc.\n",
        "* No se pueden usar palabras clave como nombre, por ejemplo: while, if, else, help, print, etc.\n",
        "\n",
        "Es recomendable que el nombre de las variables tenga relación con la información que está almacenando, de esta forma se puede facilitar el trabajo.\n",
        "\n",
        "Por último, Python usa una filosofía de tecleado dinámico, por lo que los valores de las variables pueden cambiar mientras escribimos nuestro código."
      ]
    },
    {
      "cell_type": "code",
      "metadata": {
        "id": "PcysKvE5w_5b"
      },
      "source": [
        "### Ejemplos de nombres de variables\n",
        "x = 10\n",
        "y = 15\n",
        "variable1 = 100"
      ],
      "execution_count": null,
      "outputs": []
    },
    {
      "cell_type": "code",
      "metadata": {
        "id": "4U1vSyh2xM-b"
      },
      "source": [
        "### La siguiente línea marcará error\n",
        "2x= 100"
      ],
      "execution_count": null,
      "outputs": []
    },
    {
      "cell_type": "code",
      "metadata": {
        "id": "oyO_sTG0xVF7"
      },
      "source": [
        "# Usando una palabra clave\n",
        "while = 100"
      ],
      "execution_count": null,
      "outputs": []
    },
    {
      "cell_type": "code",
      "metadata": {
        "id": "eX4B5aslxgxu"
      },
      "source": [
        "# Ejemplo de tecleado dinámico\n",
        "x = 10\n",
        "y = 15\n",
        "suma = x + y\n",
        "print(suma)"
      ],
      "execution_count": null,
      "outputs": []
    },
    {
      "cell_type": "markdown",
      "metadata": {
        "id": "fLSY0hrUxx8W"
      },
      "source": [
        "La celda anterior nos develve el resultado de la suma de x e y, que es 25.\n",
        "\n",
        "Ahora veremos qué pasa si cambiamos el valor de x después de la primera suma."
      ]
    },
    {
      "cell_type": "code",
      "metadata": {
        "id": "hMyC8lnUxwXh"
      },
      "source": [
        "x = 10\n",
        "y = 15\n",
        "suma = x + y\n",
        "print(suma)\n",
        "\n",
        "x=20\n",
        "suma = x + y\n",
        "print(suma)"
      ],
      "execution_count": null,
      "outputs": []
    },
    {
      "cell_type": "markdown",
      "metadata": {
        "id": "L44xGStMyNWE"
      },
      "source": [
        "El resultado de la suma cambia porque cambiamos el valor de x."
      ]
    },
    {
      "cell_type": "markdown",
      "metadata": {
        "id": "2HJhIbvOsXee"
      },
      "source": [
        "## Comentarios\n",
        "\n",
        "El símbolo **#** nos sirve para comentar lineas de código. Un comentario es una linea escrita que no se ejecutará cuando se corra el programa. Es útil para hacer anotaciones o dar avisos sobre el código."
      ]
    },
    {
      "cell_type": "code",
      "metadata": {
        "id": "8mIgrYCNkfvP"
      },
      "source": [
        "# Este es un comentario"
      ],
      "execution_count": null,
      "outputs": []
    },
    {
      "cell_type": "markdown",
      "metadata": {
        "id": "7Fw10PkEskbF"
      },
      "source": [
        "No se despliega nada como resultado de la celda de código anterior porque solo tiene el comentario"
      ]
    },
    {
      "cell_type": "markdown",
      "metadata": {
        "id": "5mdsyjV3qp4v"
      },
      "source": [
        "## La función print()\n",
        "La función **print()** nos sirve para desplegar cualqueir cosa que se encuentre dentro de los (). Lo que esté dentro puede ser texto e icluso variables.\n",
        "\n",
        "Si queremos desplegar texto debemos usar las **'comillas'** o las  **\"comillas dobles\"**. Más adelante veremos cuál es el uso específico de cada caso."
      ]
    },
    {
      "cell_type": "code",
      "metadata": {
        "id": "sdumFGLnqoF0"
      },
      "source": [
        "### Ejemplos de print()\n",
        "print('Hola mundo')\n",
        "print(100)\n",
        "#Combinamos texto y números, solo debemos separarlos por coma\n",
        "print('Multiplicación',100*2) \n",
        "print(\"Hola Google Colab\")"
      ],
      "execution_count": null,
      "outputs": []
    },
    {
      "cell_type": "markdown",
      "metadata": {
        "id": "FdZ2N6lBr03Y"
      },
      "source": [
        "Como vimos, la función **print()** nos será de bastante utilidad."
      ]
    },
    {
      "cell_type": "markdown",
      "metadata": {
        "id": "n4ahWDCYzVNs"
      },
      "source": [
        "# Tipos de datos\n",
        "\n",
        "En Python disponemos de distintos tipos de datos para nuestro uso. Cada uno de ellos sirve para funciones específcas y se trabajan de acuerdo a sus restricciones. A continuación veremos algunos de ellos."
      ]
    },
    {
      "cell_type": "markdown",
      "metadata": {
        "id": "bnfwGKml0D68"
      },
      "source": [
        "Nombre  |  Tipo  | Ejemplo\n",
        "--------|------------------|-----------|\n",
        "Entero       | int | 3, 1000, -2\n",
        "Flotante      | float | 5.8, 0.001, 10.0\n",
        "Texto/Caracteres | str | \"Hola\", 'Python', '100'\n",
        "Listas | list | [10,2,3],['t1','t2','t3']\n",
        "Diccionarioes | dict | {\"c1\":\"valor\", \"nombre\":\"Juan\"}\n",
        "Tuplas | tup | (10,20,30,40),('X1','X2','X3')\n",
        "Sets | set | {\"Fruta\",\"Comida\",\"Platos\"}\n",
        "Booleano | bool | True, False\n"
      ]
    },
    {
      "cell_type": "markdown",
      "metadata": {
        "id": "EkoiE4A--wPM"
      },
      "source": [
        "En la tabla anterior podemos observar los tipos de datos que existen en Python así como su sintaxis."
      ]
    },
    {
      "cell_type": "markdown",
      "metadata": {
        "id": "ycRAAy8C-j-i"
      },
      "source": [
        "### Números"
      ]
    },
    {
      "cell_type": "markdown",
      "metadata": {
        "id": "CyOpoalN2JIa"
      },
      "source": [
        "Comenzaremos con los números.\n",
        "Los números, como su nombre lo dice, son valores numéricos, puedens ser enteros (int) o con punto decimal (float). Pueden ser positivos o negativos y se puede realizar cualquier operación aritmética con ellos, siempre y cuando sea válida esta operación."
      ]
    },
    {
      "cell_type": "markdown",
      "metadata": {
        "id": "TVTd-tSC28EV"
      },
      "source": [
        "Algunas operaciones que podemos hacer se muestran en la siguiente tabla.\n",
        "\n",
        "Operador | Nombre | Ejemplo\n",
        "---------|--------|--------|\n",
        "+ | Suma | 1+1 \n",
        "- | Resta | 10-5\n",
        "* | Multiplicación | 3*3\n",
        "/ | División | 10/2\n",
        "% | Módulo | 20%5\n",
        "** | Potencia | 10**2\n",
        "// | División entera (floor division) | 15//2"
      ]
    },
    {
      "cell_type": "code",
      "metadata": {
        "id": "xyqLjXI92Iuo"
      },
      "source": [
        "### Ejemplos de suma\n",
        "print(10+2)\n",
        "print(100+100)\n",
        "print(1.5+3.2)"
      ],
      "execution_count": null,
      "outputs": []
    },
    {
      "cell_type": "code",
      "metadata": {
        "id": "cFD_CGQo3ePG"
      },
      "source": [
        "### Ejemplos de resta\n",
        "print(10-3)\n",
        "print(20-80)\n",
        "print(10.3-4.9)"
      ],
      "execution_count": null,
      "outputs": []
    },
    {
      "cell_type": "code",
      "metadata": {
        "id": "YGbd9h75rxRP"
      },
      "source": [
        "### Ejemplo de multiplicación\n",
        "print(10*2)\n",
        "print(1.5*4)\n",
        "print(3.5*2.8)"
      ],
      "execution_count": null,
      "outputs": []
    },
    {
      "cell_type": "code",
      "metadata": {
        "id": "o9lrqqBa5bo5"
      },
      "source": [
        "### Ejemplos de división\n",
        "print(100/2)\n",
        "print(2/3)\n",
        "print(8.5/4.2)"
      ],
      "execution_count": null,
      "outputs": []
    },
    {
      "cell_type": "code",
      "metadata": {
        "id": "x3tOVoRk50PY"
      },
      "source": [
        "### Ejemplos de potencias\n",
        "print(10**2)\n",
        "print(1**5)\n",
        "print(1050**0)"
      ],
      "execution_count": null,
      "outputs": []
    },
    {
      "cell_type": "code",
      "metadata": {
        "id": "traYzTmk5_5n"
      },
      "source": [
        "### Ejemplos de módulo\n",
        "print(20 % 3)\n",
        "print(100 % 6)\n",
        "print(18 % 4)"
      ],
      "execution_count": null,
      "outputs": []
    },
    {
      "cell_type": "code",
      "metadata": {
        "id": "n6lGC0296M5J"
      },
      "source": [
        "### Ejemplos de la división entera\n",
        "print(20 // 3)\n",
        "print(100 // 6)\n",
        "print(18 // 4)"
      ],
      "execution_count": null,
      "outputs": []
    },
    {
      "cell_type": "markdown",
      "metadata": {
        "id": "_7L-7w8k8jHD"
      },
      "source": [
        "Al igual que en las matemáticas, en Python existe una jerarquía de operaciones. Esta jerarquía indicará qué operaciones se realizan antes que otras.\n",
        "\n",
        "La jerarquía es la siguiente:\n",
        "1. Exponentes/Potencias\n",
        "2. Negación\n",
        "3. Multiplicación, división, división entera, módulo\n",
        "4. Suma y resta"
      ]
    },
    {
      "cell_type": "markdown",
      "metadata": {
        "id": "qgegJdrx-2AI"
      },
      "source": [
        "### Strings\n",
        "\n",
        "Las strings (str) son cadenas de caracteres (ya sean números, letras, simbolos) que se procesan como si fueran texto. Una string será considerada como tal sólo si se encuentra dentro de las comillas simples '' o comillas dobles \"\".\n",
        "\n",
        "Para visualizar una string se puede usar la función print() o, también se puede asignar a una variable."
      ]
    },
    {
      "cell_type": "code",
      "metadata": {
        "id": "T6hYvtPn7FOE"
      },
      "source": [
        "print('Esto es una string')\n",
        "string = 'Esto también es una string'\n",
        "string"
      ],
      "execution_count": null,
      "outputs": []
    },
    {
      "cell_type": "markdown",
      "metadata": {
        "id": "lFzbL04BBpfK"
      },
      "source": [
        "Si por alguna razón deben poner una string que tenga más de dos líneas de longitud, ésta se debe poner entre tres comillas dobles \"\"\"Aquí va la string\"\"\""
      ]
    },
    {
      "cell_type": "code",
      "metadata": {
        "id": "OgOVl8BZBn7t"
      },
      "source": [
        "msg = \"\"\" El veloz murcielago hindu \n",
        "comia cardillo y kiwi\"\"\"\n",
        "\n",
        "msg"
      ],
      "execution_count": null,
      "outputs": []
    },
    {
      "cell_type": "markdown",
      "metadata": {
        "id": "iV3Nk7cnCUzU"
      },
      "source": [
        "A pesar de que no son números, se pueden hacer ciertas operaciones aritméticas con las strings."
      ]
    },
    {
      "cell_type": "code",
      "metadata": {
        "id": "b5VkoXaiCJLR"
      },
      "source": [
        "a = 'hola'\n",
        "print(a+a)"
      ],
      "execution_count": null,
      "outputs": []
    },
    {
      "cell_type": "code",
      "metadata": {
        "id": "3CijMtzOLQ2_"
      },
      "source": [
        "a*3"
      ],
      "execution_count": null,
      "outputs": []
    },
    {
      "cell_type": "code",
      "metadata": {
        "id": "TopbfqDfLScQ"
      },
      "source": [
        "b='adios'\n",
        "print(a-b)"
      ],
      "execution_count": null,
      "outputs": []
    },
    {
      "cell_type": "markdown",
      "metadata": {
        "id": "kaVrEKfYefMb"
      },
      "source": [
        "Como podrán observar, solo estamos limitados a ciertas operaciones aritméticas."
      ]
    },
    {
      "cell_type": "markdown",
      "metadata": {
        "id": "9V__dTPoemX1"
      },
      "source": [
        "#### Manipulación de strings\n",
        "\n",
        "En ciertas ocasiones nos puede ser útil obtener un valor en específico del string o una serie de caracteres. Para este caso se usa una técnica llamada **indexing** y otra llamada **slicing**. Esta operación es posible porque las strigs al ser una *cadena* de datos, tienen un índice (posición en la cadena) que se puede referenciar.\n",
        "\n",
        "Con el **indexing** podemos tomar un solo caracter específico, mientras que con **slicing** podemos tomar un secuencia de caracteres. \n",
        "\n",
        "Algunas consideraciones para realizar **indexing** y **slicing** son:\n",
        "* La cuenta inicia desde 0 y no desde 1.\n",
        "* Los espacios cuentan.\n",
        "* Se pueden hacer de sentido positivo o negativo."
      ]
    },
    {
      "cell_type": "code",
      "metadata": {
        "id": "YhDU3kMaLXXE"
      },
      "source": [
        "### Declaramos una string\n",
        "msg = 'Hola mundo desde Python'\n",
        "\n",
        "# Si queremos obtener solamente un caracter indicamos el valor del índice\n",
        "print(msg[0])\n",
        "\n",
        "# Si queremos obtener una palabra escribimos el rango donde se encuentran los índices\n",
        "# Obtener la palabra Hola\n",
        "print(msg[0:4])\n",
        "# Obtener la palabra mundo\n",
        "print(msg[5:10])\n",
        "\n",
        "# Si queremos obtener el último caracter\n",
        "print(msg[-1])\n",
        "\n",
        "# Obtener la palabra Python usando el sentido inverso\n",
        "print(msg[-6:])"
      ],
      "execution_count": null,
      "outputs": []
    },
    {
      "cell_type": "markdown",
      "metadata": {
        "id": "_31L8Uyjkat7"
      },
      "source": [
        "### Arrays\n",
        "\n",
        "Estos tipos de datos corresponden a su propio subconjunto de datos.\n",
        "\n",
        "Son llamados **arrays** o arreglos porque pueden tener uno o más datos y están organizados."
      ]
    },
    {
      "cell_type": "markdown",
      "metadata": {
        "id": "2OJjhjfhk_w5"
      },
      "source": [
        "#### Listas\n",
        "\n",
        "Las listas son una colección de datos que están ordenadas aunque, se puede cambiar el orden se sus elementos.\n",
        "\n",
        "Las listas pueden tener todos los tipos de datos, incluyendo listas.\n",
        "\n",
        "Para declarar una lista se usan los **corchetes []** y cada elemento debe estar separado por una **coma ,**\n",
        "\n",
        "Se pueden realizar ciertas operaciones aritméticas con ellas, como la suma y la multiplicación.\n",
        "\n",
        "Se puede iterar sobre sus elementos."
      ]
    },
    {
      "cell_type": "code",
      "metadata": {
        "id": "7oa52ZsljPNM"
      },
      "source": [
        "### Ejemplos de listas\n",
        "\n",
        "lst = [1,2,3,4,5] # Una lista que contiene números\n",
        "print(lst)\n",
        "\n",
        "lst2 = ['a', 'b', 'c', 'd', 'e'] # Una lista con strings\n",
        "print(lst2)\n",
        "\n",
        "lst3 = [1,'a', 2, 'b', 3, 'c'] # Lista combinada\n",
        "print(lst3)"
      ],
      "execution_count": null,
      "outputs": []
    },
    {
      "cell_type": "code",
      "metadata": {
        "id": "99pB2X_rmPaq"
      },
      "source": [
        "# Operaciones con strings\n",
        "\n",
        "l1 = [0,1,2,3,4]\n",
        "l2 = [5,6,7,8,9]\n",
        "\n",
        "print(l1 + l2) # Suma de strings\n",
        "print(l1*2)"
      ],
      "execution_count": null,
      "outputs": []
    },
    {
      "cell_type": "markdown",
      "metadata": {
        "id": "7f28tgxNm43s"
      },
      "source": [
        "Como vemos, estamos limitados en cuanto a operaciones.\n",
        "\n",
        "También hay que considerar que la 'suma' es la *cocatenación* de los elementos, es decir, se agrupan los elementos más no se hace la suma de cada uno de los elementos."
      ]
    },
    {
      "cell_type": "markdown",
      "metadata": {
        "id": "8ZqLKvY6nVfy"
      },
      "source": [
        "También podemos aplicar la indexación y slicing a las listas"
      ]
    },
    {
      "cell_type": "code",
      "metadata": {
        "id": "MemWEzUqmrv4"
      },
      "source": [
        "### Indexing y slicing con listas\n",
        "\n",
        "# Usaremos la lista l1\n",
        "print(l1[0])\n",
        "print([-1])\n",
        "print(l1[0:3])"
      ],
      "execution_count": null,
      "outputs": []
    },
    {
      "cell_type": "markdown",
      "metadata": {
        "id": "lAyhdZKpoRRK"
      },
      "source": [
        "**Manipulando listas**\n",
        "\n",
        "Los elementos de las listas pueden modificarse, quitarse e incluso, se pueden agregar nuevos elementos.\n",
        "\n",
        "Estas opearciones se ejecutan mediante **métodos** especiales de Python.\n",
        "\n",
        "La sintaxis es *variable.metodo()*\n",
        "\n",
        "Método | Descripcion\n",
        "-------|------------\n",
        "append()|Agrega un elemento al final de la lista\n",
        "clear() | Quita todos los elementos de una lista\n",
        "copy() | Regresa una copia de una lista\n",
        "remove() | Quita el primer elemento de un valor específico\n",
        "pop() | Quita el elemento en el índice especificado"
      ]
    },
    {
      "cell_type": "code",
      "metadata": {
        "id": "PazSiptOoJmZ"
      },
      "source": [
        "### Creamos una nueva lista\n",
        "new_list = [10,20,30,40,50,60]\n",
        "print(new_list)\n",
        "\n",
        "# Agregamos un elemento nuevo\n",
        "new_list.append(70)\n",
        "print(new_list)\n",
        "\n",
        "# Quitamos el elemento que recien agregamos\n",
        "new_list.remove(70)\n",
        "print(new_list)\n",
        "\n",
        "# Quitamos el valor de 30\n",
        "new_list.pop(2)\n",
        "print(new_list)"
      ],
      "execution_count": null,
      "outputs": []
    },
    {
      "cell_type": "markdown",
      "metadata": {
        "id": "jXB2ft58qisz"
      },
      "source": [
        "Para modificar un valor usamos como referencia el índice donde se encuentra ese valor. Por ejemplo:"
      ]
    },
    {
      "cell_type": "code",
      "metadata": {
        "id": "FtdjTlUZqieB"
      },
      "source": [
        "# Cambiamos el valor de 50 por 100\n",
        "new_list[3] = 100\n",
        "print(new_list)"
      ],
      "execution_count": null,
      "outputs": []
    },
    {
      "cell_type": "markdown",
      "metadata": {
        "id": "hr7W2R8-r2Lb"
      },
      "source": [
        "#### Tuplas\n",
        "\n",
        "Una tupla es una colección de datos que están ordenados y sus valores **no son intercambiables**.\n",
        "\n",
        "Las tuplas son declradas con **paréntesis ()**\n",
        "\n",
        "Algunas de las operaciones con tuplas:\n",
        "* Se puede acceder a sus elementos como en las listas.\n",
        "* Se puede iterar sobre sus elementos\n",
        "* Se puede preguntar si existe un elemento."
      ]
    },
    {
      "cell_type": "code",
      "metadata": {
        "id": "ggOxMk0yqAs-"
      },
      "source": [
        "### Declaramos una tupla\n",
        "pets = ('perro', 'gato', 'hamster', 'tortuga')\n",
        "print(pets)\n",
        "\n",
        "frutas = ('manzana','kiwi','naranja','limon')\n",
        "print(frutas)"
      ],
      "execution_count": null,
      "outputs": []
    },
    {
      "cell_type": "code",
      "metadata": {
        "id": "UiADPYj7s-yO"
      },
      "source": [
        "### Usando indexación y slicing\n",
        "print(pets[1])\n",
        "print(frutas[3])\n",
        "\n",
        "### Iterando sobre los elementos\n",
        "print(pets[0:3])\n",
        "print(frutas[0:3])\n",
        "\n",
        "### Preguntar si existe un elemento\n",
        "print('perro' in pets)\n",
        "print('perro' in frutas)"
      ],
      "execution_count": null,
      "outputs": []
    },
    {
      "cell_type": "markdown",
      "metadata": {
        "id": "VehmDf4nupua"
      },
      "source": [
        "#### Diccionarios\n",
        "\n",
        "Un diccionario, como su contraparte real, es una colección de datos que no tiene un orden específico pero si un **identificador**.\n",
        "\n",
        "Sus elementos pueden cambiar y ser indexados.\n",
        "\n",
        "Se declaran mediante las **llaves {}**\n",
        "Para declarar un elemento se debe escribrir el **identificador o key**, seguido de **dos puntos :** y los elementos correspondientes a esa key. Si hay mas de una key, estas van separadas por comas\n",
        "\n",
        "Sintaxis\n",
        "\"key1\":\"valor1\",\n",
        "\"key2\":\"valor2\",\n",
        "\"key3\":\"valor3\"\n",
        "\n",
        "Para cada elemento debe existir un identificador que hace referencia a un valor o valores.\n",
        "\n",
        "Se pueden manipular al igual que las listas."
      ]
    },
    {
      "cell_type": "code",
      "metadata": {
        "id": "nI2ujN5ds-uk"
      },
      "source": [
        "# Declaramos un diccionario\n",
        "orquesta = {\n",
        "    \"vientos\": \"flauta\",\n",
        "    \"metales\": \"trompeta\",\n",
        "    \"cuerdas\": \"violin\",\n",
        "    \"percusiones\": \"tambor\"\n",
        "}\n",
        "\n",
        "print(orquesta)"
      ],
      "execution_count": null,
      "outputs": []
    },
    {
      "cell_type": "code",
      "metadata": {
        "id": "BDpyWfQos-rw"
      },
      "source": [
        "# Diccionario con valores repetidos\n",
        "planetas = {\n",
        "    \"rocosos\": \"mercurio, venus, tierra, marte\",\n",
        "    \"gaseosos\": \"neptuno, jupiter, urano, saturno\",\n",
        "    \"anillados\":\"saturno, urano, neptuno, jupiter\"\n",
        "}\n",
        "\n",
        "print(planetas)"
      ],
      "execution_count": null,
      "outputs": []
    },
    {
      "cell_type": "code",
      "metadata": {
        "id": "gAW_S7yCysjM"
      },
      "source": [
        "### Referenciaremos los valores de cada diccionario\n",
        "print(orquesta[\"metales\"])\n",
        "print(planetas[\"rocosos\"])"
      ],
      "execution_count": null,
      "outputs": []
    },
    {
      "cell_type": "code",
      "metadata": {
        "id": "JVnzTEwjz6hU"
      },
      "source": [
        "### También se pueden crear diccionarios que contengan otros diccionarios\n",
        "\n",
        "info1 = {\n",
        "    \"artista\":\"acdc\", \"genero\":\"rock\"\n",
        "}\n",
        "\n",
        "info2 = {\n",
        "    \"artista\":\"abba\", \"genero\":\"pop\"\n",
        "}\n",
        "\n",
        "info3 = {\n",
        "    \"artista\":\"daft punk\", \"genero\":\"electronica\"\n",
        "}\n",
        "\n",
        "musica = {\n",
        "    \"artista 1\": info1,\n",
        "    \"artista 2\": info2,\n",
        "    \"artista 3\": info3\n",
        "}\n",
        "\n",
        "print(musica)"
      ],
      "execution_count": null,
      "outputs": []
    },
    {
      "cell_type": "markdown",
      "metadata": {
        "id": "9NyFQhM4wZxn"
      },
      "source": [
        "# Operadores booleanos y de comparación\n",
        "\n",
        "Este tipo de datos son más especializados, porque nos servirán para realizar comparaciones lógicas, elaborar tablas de verdad, controlar el flujo de nuestro programa, entre muchas cosas más.\n",
        "\n",
        "A partir de aquí es donde el hamster dentro de nuestra cabeza comenzará a correr como bólido."
      ]
    },
    {
      "cell_type": "markdown",
      "metadata": {
        "id": "6jzd2_kZyf9n"
      },
      "source": [
        "## Operadores de comparación\n",
        "\n",
        "Estos operadores son los que hemos visto toda la vida. Nos sirven para comparar valores, igualdades, diferencias, entre otras.\n",
        "\n",
        "En la siguiente tabla se muestra un breve resumen de los que podemos usar en Python.\n",
        "\n",
        "Recuerden que el tipo de dato que regresarán estas operaciones siempre será **booleano**, es decir, **True** o **False**"
      ]
    },
    {
      "cell_type": "markdown",
      "metadata": {
        "id": "OeSLit1Xz0I_"
      },
      "source": [
        "Operador | Nombre | Ejemplo\n",
        "---------|--------|--------\n",
        "== | Es igual a | x==y\n",
        "!= | Es distinto a | x!=y\n",
        "> | Mayor que | x>y\n",
        "< | Menor que | x<y\n",
        ">= | Mayor o igual que | x>=y\n",
        "<= | Menor o igual que | x>=y"
      ]
    },
    {
      "cell_type": "code",
      "metadata": {
        "id": "un4nwclS1BhM"
      },
      "source": [
        "### Vamos algunos ejemplos\n",
        "# Definimos dos variables númericas x & y\n",
        "x = 100\n",
        "y = 50\n",
        "\n",
        "# Realizamos las comparaciones\n",
        "print(x==y)\n",
        "print(x!=y)\n",
        "print(x>y)\n",
        "print(x<y)\n",
        "print(x>=y)\n",
        "print(x<=y)"
      ],
      "execution_count": null,
      "outputs": []
    },
    {
      "cell_type": "code",
      "metadata": {
        "id": "x9DL_paF04qd"
      },
      "source": [
        "# Ejemplo con strings\n",
        "s1 = 'perro'\n",
        "s2 = 'gato'\n",
        "s3 = 'perro'\n",
        "s4 = 'gato'\n",
        "\n",
        "# Realizamos las comparaciones\n",
        "print(s1==s3)\n",
        "print(s1==s2)\n",
        "print(s1>s2)\n",
        "print(s1<s2)\n",
        "print(s2==s4)"
      ],
      "execution_count": null,
      "outputs": []
    },
    {
      "cell_type": "markdown",
      "metadata": {
        "id": "R2EOTZoq2NIs"
      },
      "source": [
        "En teoría se puede comparar cualquier tipo de dato en Python. En el caso de los arrays, estos se comparan elemento por elemento."
      ]
    },
    {
      "cell_type": "code",
      "metadata": {
        "id": "cHGP1IDw1WTU"
      },
      "source": [
        "menu1 = ['sandwich','hamburguesa','tacos','cafe']\n",
        "menu2 = ['sandwich','hamburguesa','tacos','te']\n",
        "menu_copia = menu1\n",
        "\n",
        "\n",
        "print(menu1==menu_copia)\n",
        "print(menu1==menu2)"
      ],
      "execution_count": null,
      "outputs": []
    },
    {
      "cell_type": "markdown",
      "metadata": {
        "id": "qLb6f7Nd22ag"
      },
      "source": [
        "Ya que la variable 'menu1' y 'menu_copia' tienen los mismos elementos, el resultado es **True**. Mientras que las variables 'menu1' y 'menu2' son distintas, el resultado de la comparación es **False**."
      ]
    },
    {
      "cell_type": "code",
      "metadata": {
        "id": "8zivmMx82o6p"
      },
      "source": [
        "menu3 = ['sandwich','hamburguesa','tacos','cafe','te','tortas','chilaquiles']\n",
        "\n",
        "\n",
        "# Si queremos usar los operadores mayor o menor que, la comparación se hace de\n",
        "# de acuerdo a su cantidad de elementos\n",
        "# El comando len() regresa la cantidad de elementos que tiene un array\n",
        "print(len(menu1))\n",
        "print(len(menu3))\n",
        "\n",
        "print(menu1 > menu3)\n",
        "print(menu1 < menu3)"
      ],
      "execution_count": null,
      "outputs": []
    },
    {
      "cell_type": "markdown",
      "metadata": {
        "id": "O4JBV6HZ4OMF"
      },
      "source": [
        "## Operadores booleanos\n",
        "\n",
        "Los operadores booleanos vienen desde el álgebra booleana.\n",
        "\n",
        "Estos operadores agrupan términos en combinaciones lógicas.\n",
        "\n",
        "En esencia sólo hay tres operadores:\n",
        "* And\n",
        "* Or\n",
        "* Not\n",
        "\n",
        "El resultado, al igual que los operadores de comparación, siempre será **True** o **False**"
      ]
    },
    {
      "cell_type": "markdown",
      "metadata": {
        "id": "gQck5GwU43_U"
      },
      "source": [
        "El resultado de los operadores se basa en las compuertas lógicas, cuyos resultados son los siguientes:"
      ]
    },
    {
      "cell_type": "markdown",
      "metadata": {
        "id": "GceLxxqI5lAI"
      },
      "source": [
        "Compuerta AND"
      ]
    },
    {
      "cell_type": "markdown",
      "metadata": {
        "id": "z3F0x_fy5EiP"
      },
      "source": [
        "A | B | S\n",
        "--|---|---\n",
        "0 | 0 | 0\n",
        "0 | 1 | 0\n",
        "1 | 0 | 0\n",
        "1 | 1 | 1"
      ]
    },
    {
      "cell_type": "markdown",
      "metadata": {
        "id": "klygGg_i5nem"
      },
      "source": [
        "Compuerta OR"
      ]
    },
    {
      "cell_type": "markdown",
      "metadata": {
        "id": "iwFkKFXv5nWg"
      },
      "source": [
        "A | B | S\n",
        "--|---|--\n",
        "0 | 0 | 0\n",
        "0 | 1 | 1\n",
        "1 | 0 | 1\n",
        "1 | 1 | 1"
      ]
    },
    {
      "cell_type": "markdown",
      "metadata": {
        "id": "Gu5-IqPi55LZ"
      },
      "source": [
        "Negación NOT"
      ]
    },
    {
      "cell_type": "markdown",
      "metadata": {
        "id": "m1LyKXux54id"
      },
      "source": [
        "A  | S\n",
        "---|--\n",
        "0 | 1\n",
        "1 | 0 "
      ]
    },
    {
      "cell_type": "markdown",
      "metadata": {
        "id": "ALS0sE7B6MnH"
      },
      "source": [
        "Veamos algunos ejemplos"
      ]
    },
    {
      "cell_type": "code",
      "metadata": {
        "id": "pc4Ek1vD3c59"
      },
      "source": [
        "# Definimos dos variables, a y b\n",
        "a = 1\n",
        "b = 0\n",
        "\n",
        "print(a and b)\n",
        "print(a or b)\n",
        "print(not a)\n",
        "print(not b)\n",
        "\n",
        "print(a and a)\n",
        "print(b and b)"
      ],
      "execution_count": null,
      "outputs": []
    },
    {
      "cell_type": "markdown",
      "metadata": {
        "id": "8Hx8cQbS6upZ"
      },
      "source": [
        "Estas operaciones booleanas son bastante útiles cuando queremos comparar muchas variables al mismo tiempo.\n",
        "\n",
        "Con ellos también podemos elaborar *tablas de verdad* y los *mapas de Karnaugh*, aunque eso no lo veremos aquí."
      ]
    },
    {
      "cell_type": "markdown",
      "metadata": {
        "id": "wP6zEFSO7QPn"
      },
      "source": [
        "# Estructuras de control\n",
        "\n",
        "En programación, se conoce como *estructuras de control* a las herramientas que permiten modificar el flujo de trabajo de un programa.\n",
        "\n",
        "Son muy útiles para dirigir el programa hacia el resultado que deseamos.\n",
        "\n",
        "Se dividen en dos grandes grupos: **estructuras condicionales** y **estructuras de control repetitivo**.\n",
        "\n",
        "En las **condicionales** tenemos a la propoción *If-then-else* y a la estrucutura *Switch case*.\n",
        "\n",
        "En las de **control repetitivo** tenemos dos ciclos: el ciclo *for* y el ciclo *while*."
      ]
    },
    {
      "cell_type": "markdown",
      "metadata": {
        "id": "wfTW-mcf8i_Q"
      },
      "source": [
        "## If-then-else\n",
        "\n",
        "* En Python cambia la \"forma\" de escribir esta estructura.\n",
        "\n",
        "* Siempre se debe iniciar con un *if* y una condición inicial. En caso de que no se cumpla la condición inicial, podemos agregar nuevas condiciones con la palabra *elif*, que es la contración de *else if*. \n",
        "\n",
        "* Si queremos que se ejecute una acción si alguna condición, esto se hace mediante la palabra *else*.\n",
        "\n",
        "* Una \"ley\" en programación dice así: *para todo if corresponde un else*.\n",
        "\n",
        "* En Python no existe como tal la estructura *switch case*, por lo tanto no la abordaremos durante el curso.\n",
        "\n",
        "Veamos unos ejemplos"
      ]
    },
    {
      "cell_type": "markdown",
      "metadata": {
        "id": "9briEWH1B3vd"
      },
      "source": [
        "Imaginemos que somos profesores y queremos saber si el resultado de un alumno en un examen determinado es aprobatorio o no. Pero estamos saturados de trabajo, por lo que decidimos hacer un mini programa que \"califique\" por nosotros a los alumnos. El código sería el siguiente"
      ]
    },
    {
      "cell_type": "code",
      "metadata": {
        "id": "zgaFmkN6Cp8j"
      },
      "source": [
        "### Definimos las variables\n",
        "calificacion1 = 80\n",
        "calificacion2 = 65\n",
        "\n",
        "if calificacion1 > 70:\n",
        "  print(\"El alumno aprueba\")\n",
        "else:\n",
        "  print(\"El alumno no aprueba\")\n",
        "\n",
        "if calificacion2 > 70:\n",
        "  print(\"El alumno aprueba\")\n",
        "else:\n",
        "  print(\"El alumno no aprueba\")"
      ],
      "execution_count": null,
      "outputs": []
    },
    {
      "cell_type": "markdown",
      "metadata": {
        "id": "ZdaTPOXz9jMq"
      },
      "source": [
        "Supongamos que queremos averiguar a qué clase pertenece un triángulo. Para ello debemos conocer la longitud de todos sus lados. Esta operación la podemos hacer con una estructura *If-then-else*."
      ]
    },
    {
      "cell_type": "code",
      "metadata": {
        "id": "uhY5mlWM6i2P"
      },
      "source": [
        "### Definimos los lados del triangulo\n",
        "a = 15\n",
        "b = 20\n",
        "c = 10\n",
        "\n",
        "# Escribimos la condición inicial\n",
        "\n",
        "if a == b and b == c and a == c: # todos los lados son iguales\n",
        "  print('El triangulo es equilatero')\n",
        "elif a == b and b != c and a != c:\n",
        "  print('El triangulo es isosceles') # dos lados iguales y uno distinto\n",
        "else:\n",
        "  print('El triangulo es escaleno') # todos los lados diferentes"
      ],
      "execution_count": null,
      "outputs": []
    },
    {
      "cell_type": "markdown",
      "metadata": {
        "id": "3biyduisDa9x"
      },
      "source": [
        "## Control repetitivo\n",
        "\n",
        "Como vimos, hay dos tipos de ciclos de control: *ciclo for* y *ciclo while*.\n",
        "\n",
        "Comenzemos por el primero."
      ]
    },
    {
      "cell_type": "markdown",
      "metadata": {
        "id": "rFas1cy0EBzl"
      },
      "source": [
        "### Ciclo for\n",
        "\n",
        "* El ciclo se usa para iterar sobre una secuencia de datos.\n",
        "* A diferencia del ciclo *while*, este ciclo itera sobre **todos** los elementos del arreglo, no mientras una condición sea válida.\n",
        "* Se pueden ejecutar instrucciones durante el ciclo.\n",
        "* Si van a iterar con número enteros, el valor debe esta acompañado de la palabra clave *range()*.\n",
        "* A diferencia de otros lenguajes de programación, en Python se usan los ciclos *for*, principalmente, para explorar arrays y ejecutar acciones de acuerdo al elemento en cuestion."
      ]
    },
    {
      "cell_type": "markdown",
      "metadata": {
        "id": "IRjpf48VEk4-"
      },
      "source": [
        "A continuación algunos ejemplos"
      ]
    },
    {
      "cell_type": "code",
      "metadata": {
        "id": "abikeTit-8hk"
      },
      "source": [
        "# Usaremos la variable menu1 que habíamos definido antes\n",
        "\n",
        "for plato in menu1:\n",
        "  print(plato)"
      ],
      "execution_count": null,
      "outputs": []
    },
    {
      "cell_type": "markdown",
      "metadata": {
        "id": "q_IGu5lxFiZe"
      },
      "source": [
        "Para declarar un ciclo *for*:\n",
        "\n",
        "**for** *variable_auxiliar* **in** *objeto-a-iterar*:\n",
        "\n",
        "> instrucciones\n",
        "\n"
      ]
    },
    {
      "cell_type": "code",
      "metadata": {
        "id": "-rYRIO0OFasl"
      },
      "source": [
        "# Si quisieremos usar un for como control de procesos\n",
        "\n",
        "for i in range(10): # Se repetirá la instruccion 10 veces\n",
        "  print(i)"
      ],
      "execution_count": null,
      "outputs": []
    },
    {
      "cell_type": "code",
      "metadata": {
        "id": "uWmbbGdWGTOL"
      },
      "source": [
        "# Podemos usar la variable contadora para hacer otras operaciones\n",
        "\n",
        "x = [1,2,3,4,5,6,7,8,9,10]\n",
        "\n",
        "for i in range(10):\n",
        "  y = x[i]*2 # Usamos la variable contadora para indexar elementos en la lista\n",
        "  print(y)"
      ],
      "execution_count": null,
      "outputs": []
    },
    {
      "cell_type": "markdown",
      "metadata": {
        "id": "zba2-HCfIMKC"
      },
      "source": [
        "### Ciclo *while*\n",
        "\n",
        "* Este ciclo se ejecuta **siempre y cuando se cumpla la condición**.\n",
        "* Se puede interrupir el ciclo usando la palabra *break*.\n",
        "* Se debe agregar una variable contadora obligatoriamente."
      ]
    },
    {
      "cell_type": "markdown",
      "metadata": {
        "id": "1Iigv3ZIIJSW"
      },
      "source": [
        "Esto es lo que pasa si no aregan la variable contadora"
      ]
    },
    {
      "cell_type": "code",
      "metadata": {
        "id": "kWsNFoCNG2FP"
      },
      "source": [
        "### NO LO HAGA COMPA!!!\n",
        "\n",
        "i = 1\n",
        "while i < 10:  ### Se los advertí ¬¬\n",
        "  print(i)"
      ],
      "execution_count": null,
      "outputs": []
    },
    {
      "cell_type": "markdown",
      "metadata": {
        "id": "OYXEKKR6I294"
      },
      "source": [
        "Si ejecutaron la celda anterior habrán notado que el ciclo se ejecuta infinitamente. Esto sucedió porque no hay una variable que registre los aumentos o decrementos dentro del ciclo, entonces, la condición siempre se cumple y el ciclo no puede terminar."
      ]
    },
    {
      "cell_type": "markdown",
      "metadata": {
        "id": "kvT8TLv2JT6w"
      },
      "source": [
        "Dejemos los tecnisismos atras y veamos unos ejemplos del ciclo *while*."
      ]
    },
    {
      "cell_type": "code",
      "metadata": {
        "id": "AZ_PQVP3I3xM"
      },
      "source": [
        "# Declaramos una variable i para llevar el control\n",
        "\n",
        "i = 1\n",
        "\n",
        "while i < 10:\n",
        "  print(i)\n",
        "  i += 1 # Esta es la forma en la que se declara el aumento en 1"
      ],
      "execution_count": null,
      "outputs": []
    },
    {
      "cell_type": "code",
      "metadata": {
        "id": "SqXHIEZwI3s1"
      },
      "source": [
        "# Ejemplo donde la variable va disminuyendo\n",
        "i = 10\n",
        "\n",
        "while i > 0:\n",
        "  print(i)\n",
        "  i -= 1 # Esta es la forma en la que se declara el decremento de 1"
      ],
      "execution_count": null,
      "outputs": []
    },
    {
      "cell_type": "code",
      "metadata": {
        "id": "dCzXC86iI3b-"
      },
      "source": [
        "i = 1\n",
        "while i <= 15:\n",
        "  print('Condición válida')\n",
        "  i += 1"
      ],
      "execution_count": null,
      "outputs": []
    },
    {
      "cell_type": "code",
      "metadata": {
        "id": "uQgKNvK8Kpi0"
      },
      "source": [
        "# Interrupiendo ciclos\n",
        "i = 1\n",
        "\n",
        "while i < 20:\n",
        "  print(i)\n",
        "  if i <= 5:\n",
        "    print('Condición cumplida')\n",
        "    break\n",
        "  i += 1"
      ],
      "execution_count": null,
      "outputs": []
    },
    {
      "cell_type": "markdown",
      "metadata": {
        "id": "vcqdfW1KLZEH"
      },
      "source": [
        "El ciclo anterior se interrupió en la primera iteración porque i tiene un valor de 1 y es menor que 5. Por lo que debemos analizar y definir correctamente la condición con la cual se va interrumpir el ciclo."
      ]
    },
    {
      "cell_type": "code",
      "metadata": {
        "id": "4nvriEIsLMEU"
      },
      "source": [
        "i = 1\n",
        "\n",
        "while i < 20:\n",
        "  print(i)\n",
        "  if i == 5:\n",
        "    print('Condición cumplida')\n",
        "    break\n",
        "  i += 1"
      ],
      "execution_count": null,
      "outputs": []
    },
    {
      "cell_type": "markdown",
      "metadata": {
        "id": "KibNCsbTKSux"
      },
      "source": [
        "Como recordatorio:\n",
        "* El ciclo *for* se ejecuta **hasta que se terminan los elementos**.\n",
        "* El ciclo *while* se ejecuta **mientras la condición sea verdadera**."
      ]
    },
    {
      "cell_type": "markdown",
      "metadata": {
        "id": "z-3hedoPL7gF"
      },
      "source": [
        "# Uso de librerias\n",
        "\n",
        "* Python puede usar una cantidad enorme de librerías con las cuales adquiere mayor flexibilidad y poder de procesamiento.\n",
        "* En nuestro caso, Google Colab cuenta con bastantes librerías preinstaladas que podemos utilizar.\n",
        "* Si por algún motivo necesitan instalar alguna librería, esto se puede hacer con el comando **pip()**.\n",
        "* Para mostrar todas las librerias que hay instaladas se usa la siguiente instrucción: **pip list**.\n",
        "* Para indicar a Python que vamos a usar una librería debemos escribir la palabra **import** seguido del nombre de la librería."
      ]
    },
    {
      "cell_type": "code",
      "metadata": {
        "id": "5212tbINKHFG"
      },
      "source": [
        "### Revisamos las librerías ya instaladas\n",
        "!pip list"
      ],
      "execution_count": null,
      "outputs": []
    },
    {
      "cell_type": "markdown",
      "metadata": {
        "id": "jXW7QpYeNdE1"
      },
      "source": [
        "## Numpy\n",
        "* Numpy es una librería especializada para cómputo numérico científico y avanzado.\n",
        "* Es ideal para trabajar con matrices y otros arreglos de datos (arrays).\n",
        "* Se pueden hacer operaciones de álgebra lineal, matricial, transformadas de Fourier, entre otras.\n",
        "* Es bastante similar al software Matlab."
      ]
    },
    {
      "cell_type": "code",
      "metadata": {
        "id": "3PXZplMTN9Dn"
      },
      "source": [
        "# La palabra as sirve para dar un alias a la librería\n",
        "# y poder llamarla sin la necesidad de escribir el nombre completo\n",
        "\n",
        "import numpy as np"
      ],
      "execution_count": null,
      "outputs": []
    },
    {
      "cell_type": "code",
      "metadata": {
        "id": "q9NtrNcwOUxO"
      },
      "source": [
        "# Declaramos un arreglo de datos de numpy\n",
        "a = np.array([1,2,3])\n",
        "print(a)\n",
        "print(type(a))"
      ],
      "execution_count": null,
      "outputs": []
    },
    {
      "cell_type": "markdown",
      "metadata": {
        "id": "IUP64UNdPb8g"
      },
      "source": [
        "* Al ser arreglos, estos objetos tienen dimensiones.\n",
        "* Para conocer las dimensiones de un arreglo usamos la palabra *shape*."
      ]
    },
    {
      "cell_type": "code",
      "metadata": {
        "id": "t-i67T7ROUra"
      },
      "source": [
        "print(a.shape)"
      ],
      "execution_count": null,
      "outputs": []
    },
    {
      "cell_type": "markdown",
      "metadata": {
        "id": "QKjwV7lsPkNb"
      },
      "source": [
        "Podemos manipular los arreglos al igual los otros tipos de arreglos"
      ]
    },
    {
      "cell_type": "code",
      "metadata": {
        "id": "WGdIxB4jOUmL"
      },
      "source": [
        "print(a[0])\n",
        "print(a[1])"
      ],
      "execution_count": null,
      "outputs": []
    },
    {
      "cell_type": "markdown",
      "metadata": {
        "id": "IEPGuVgDQC9J"
      },
      "source": [
        "También podemos modificar valores"
      ]
    },
    {
      "cell_type": "code",
      "metadata": {
        "id": "bPbHzWVsOUdR"
      },
      "source": [
        "a[0] = 5\n",
        "print(a)"
      ],
      "execution_count": null,
      "outputs": []
    },
    {
      "cell_type": "markdown",
      "metadata": {
        "id": "guier2hBQK_O"
      },
      "source": [
        "Ahora trabajemos con matrices"
      ]
    },
    {
      "cell_type": "code",
      "metadata": {
        "id": "K6bfcFveQHFT"
      },
      "source": [
        "b = np.array([[1,2,3],\n",
        "              [4,5,6]\n",
        "              ])"
      ],
      "execution_count": null,
      "outputs": []
    },
    {
      "cell_type": "code",
      "metadata": {
        "id": "pAtUJldRQZDF"
      },
      "source": [
        "print(b)"
      ],
      "execution_count": null,
      "outputs": []
    },
    {
      "cell_type": "code",
      "metadata": {
        "id": "irOSl7WHQaWZ"
      },
      "source": [
        "print(b.shape)"
      ],
      "execution_count": null,
      "outputs": []
    },
    {
      "cell_type": "markdown",
      "metadata": {
        "id": "v_Jj15L1QeM6"
      },
      "source": [
        "Con Numpy podemos acceder a funciones más especializadas como declarar matrices, hacer calculos de álgebra matricial y vectorial así como usar ciertas variables como Pi o el número de Euler"
      ]
    },
    {
      "cell_type": "code",
      "metadata": {
        "id": "2sFy_DKkQco2"
      },
      "source": [
        "pi = np.pi\n",
        "print(pi)\n",
        "\n",
        "euler = np.exp(1)\n",
        "print(euler)"
      ],
      "execution_count": null,
      "outputs": []
    },
    {
      "cell_type": "markdown",
      "metadata": {
        "id": "RHdGZCIfQsFk"
      },
      "source": [
        "Se pueden declarar matrices especiales como las triangulares, de ceros, matriz de unos, entre otras"
      ]
    },
    {
      "cell_type": "code",
      "metadata": {
        "id": "lbgGyrxvQoiY"
      },
      "source": [
        "a = np.zeros((2,2)) # Declaramos la matri de ceros y sus dimensiones\n",
        "print(a)"
      ],
      "execution_count": null,
      "outputs": []
    },
    {
      "cell_type": "code",
      "metadata": {
        "id": "veSb2UY5RBDx"
      },
      "source": [
        "# Matriz de unos\n",
        "b = np.ones((3,3))\n",
        "print(b)"
      ],
      "execution_count": null,
      "outputs": []
    },
    {
      "cell_type": "code",
      "metadata": {
        "id": "KOceIEXIT7S7"
      },
      "source": [
        "# Generamos una matriz triangular superior de 1\n",
        "t1 = np.triu(np.ones((3,3)),1)\n",
        "print(t1)"
      ],
      "execution_count": null,
      "outputs": []
    },
    {
      "cell_type": "code",
      "metadata": {
        "id": "YSKyN7VCT7Ci"
      },
      "source": [
        "# Generamos una matriz con diagonal principal con los elementos que indicamos\n",
        "d1 = np.diag([1,2,3])\n",
        "print(d1)"
      ],
      "execution_count": null,
      "outputs": []
    },
    {
      "cell_type": "code",
      "metadata": {
        "id": "P19AHpbgUdkU"
      },
      "source": [
        "# Traspuesta de una matriz\n",
        "print(t1.T)"
      ],
      "execution_count": null,
      "outputs": []
    },
    {
      "cell_type": "code",
      "metadata": {
        "id": "rTx1HgmaRJkb"
      },
      "source": [
        "# Matriz de que solo contenga el número que indiquemos\n",
        "c = np.full((4,4), 7)\n",
        "print(c)"
      ],
      "execution_count": null,
      "outputs": []
    },
    {
      "cell_type": "code",
      "metadata": {
        "id": "M4mjlvlyRjtq"
      },
      "source": [
        "# Matriz de identidad de 2x2\n",
        "d = np.eye(2)\n",
        "print(d)"
      ],
      "execution_count": null,
      "outputs": []
    },
    {
      "cell_type": "code",
      "metadata": {
        "id": "3l2Ftby8RrN1"
      },
      "source": [
        "# Por último, una matriz de números aleatorios\n",
        "e = np.random.random((3,3))\n",
        "print(e)"
      ],
      "execution_count": null,
      "outputs": []
    },
    {
      "cell_type": "code",
      "metadata": {
        "id": "_H7n9LcOSvoc"
      },
      "source": [
        "# Una forma alternativa de generar un arreglo es usando el comando arange\n",
        "x1 = np.arange(10)\n",
        "print(x1)"
      ],
      "execution_count": null,
      "outputs": []
    },
    {
      "cell_type": "code",
      "metadata": {
        "id": "TIZAVH0VU_zB"
      },
      "source": [
        "# Para generar un espacio lineal entre dos valores\n",
        "s1 = np.linspace(0,10,25) # Inicio,fin, cantidad de puntos\n",
        "print(s1)"
      ],
      "execution_count": null,
      "outputs": []
    },
    {
      "cell_type": "markdown",
      "metadata": {
        "id": "c8uPYS8lTHbq"
      },
      "source": [
        "### Operaciones numéricas\n"
      ]
    },
    {
      "cell_type": "code",
      "metadata": {
        "id": "kVxxt5CvS9Nw"
      },
      "source": [
        "x1 = np.arange(10)\n",
        "\n",
        "print(x1)"
      ],
      "execution_count": null,
      "outputs": []
    },
    {
      "cell_type": "code",
      "metadata": {
        "id": "W71oEvelTVbQ"
      },
      "source": [
        "# Se suma 1 a cada elemento del arreglo\n",
        "print(x1 + 1)"
      ],
      "execution_count": null,
      "outputs": []
    },
    {
      "cell_type": "code",
      "metadata": {
        "id": "pnco-Z9PTiyf"
      },
      "source": [
        "print(2*x1)\n",
        "print(2**x1)"
      ],
      "execution_count": null,
      "outputs": []
    },
    {
      "cell_type": "code",
      "metadata": {
        "id": "34ISuqWWTunB"
      },
      "source": [
        "# Generamos dos matrices  con valores aleatorios entre 0 y 1\n",
        "A = np.random.rand(3,3)\n",
        "B = np.random.rand(3,3)"
      ],
      "execution_count": null,
      "outputs": []
    },
    {
      "cell_type": "code",
      "metadata": {
        "id": "6tfojoAoVcPj"
      },
      "source": [
        "print(A)"
      ],
      "execution_count": null,
      "outputs": []
    },
    {
      "cell_type": "code",
      "metadata": {
        "id": "_Hlw4CI0VdA-"
      },
      "source": [
        "print(B)"
      ],
      "execution_count": null,
      "outputs": []
    },
    {
      "cell_type": "code",
      "metadata": {
        "id": "49YEzRQ-WA4O"
      },
      "source": [
        "# Suma de matrices\n",
        "print(A+B)"
      ],
      "execution_count": null,
      "outputs": []
    },
    {
      "cell_type": "code",
      "metadata": {
        "id": "IL6eQ0JPWEHY"
      },
      "source": [
        "print(A-B)"
      ],
      "execution_count": null,
      "outputs": []
    },
    {
      "cell_type": "code",
      "metadata": {
        "id": "6wxtohplVyws"
      },
      "source": [
        "# Multiplicación elemento por elemento\n",
        "print(A*B)"
      ],
      "execution_count": null,
      "outputs": []
    },
    {
      "cell_type": "code",
      "metadata": {
        "id": "S3IqBehrVsMp"
      },
      "source": [
        "# Producto punto\n",
        "print(A.dot(B))"
      ],
      "execution_count": null,
      "outputs": []
    },
    {
      "cell_type": "code",
      "metadata": {
        "id": "YJNLxsYwVeRb"
      },
      "source": [
        "# Calculo de los eigenvalores\n",
        "eig = np.linalg.eigvals(A)\n",
        "print(eig)"
      ],
      "execution_count": null,
      "outputs": []
    },
    {
      "cell_type": "markdown",
      "metadata": {
        "id": "VoEojCeDWgF9"
      },
      "source": [
        "## Matplotlib\n",
        "\n",
        "* Es una librería para realizar gráficas elegantes y entendibles.\n",
        "\n",
        "* Se pueden hacer gráficas de barras, histogramas, gráficas de paste, entre otras.\n",
        "\n",
        "* Permite editar aspectos como los ejes, la escala, el título de la gráfica, color, leyendas, entre otros."
      ]
    },
    {
      "cell_type": "markdown",
      "metadata": {
        "id": "nEAadDx-XSg9"
      },
      "source": [
        "Comenzemos importando la librería y con un ejemplo básico."
      ]
    },
    {
      "cell_type": "code",
      "metadata": {
        "id": "b_rdol95V-CL"
      },
      "source": [
        "import matplotlib.pyplot as plt\n",
        "\n",
        "plt.plot([1,2,3,4,5])\n",
        "plt.show()"
      ],
      "execution_count": null,
      "outputs": []
    },
    {
      "cell_type": "code",
      "metadata": {
        "id": "ALHaRbK5Xmrp"
      },
      "source": [
        "### Para que las gráficas se vean en 16:9\n",
        "plt.rcParams['figure.figsize'] = (16,9)\n",
        "plt.style.use('ggplot')"
      ],
      "execution_count": null,
      "outputs": []
    },
    {
      "cell_type": "code",
      "metadata": {
        "id": "GAMrIc05fH-Z"
      },
      "source": [
        "# Vamos a mejorar la gráfica\n",
        "plt.plot([1,2,3,4,5])\n",
        "plt.xlabel('Eje X') # Para poner títulos al eje X\n",
        "plt.ylabel('Eje Y') # Para poner títulos al eje Y\n",
        "plt.title('Primera gráfica') # Título a toda la gráfica\n",
        "plt.show()"
      ],
      "execution_count": null,
      "outputs": []
    },
    {
      "cell_type": "code",
      "metadata": {
        "id": "z9KgX0qjfymf"
      },
      "source": [
        "# Si queremos gráficar valores respecto a otros\n",
        "\n",
        "plt.figure()\n",
        "plt.plot([1,2,3,4,5],[1,4,9,16,25])\n",
        "plt.title('Función cuadrática')\n",
        "plt.xlabel('X')\n",
        "plt.ylabel('X^2')\n",
        "plt.show()"
      ],
      "execution_count": null,
      "outputs": []
    },
    {
      "cell_type": "markdown",
      "metadata": {
        "id": "5la-PphegzDS"
      },
      "source": [
        "Definir los valores para cada gráfica puede resultar tedioso, por suerte, podemos usar todas las herramientas que hemos visto para generar de manera automática los valores."
      ]
    },
    {
      "cell_type": "code",
      "metadata": {
        "id": "g1JwY6ijguI5"
      },
      "source": [
        "# Usaremos numpy como herramienta auxiliar\n",
        "\n",
        "x = np.arange(0,5,0.2)\n",
        "y1 = x**2\n",
        "y2 = x**3"
      ],
      "execution_count": null,
      "outputs": []
    },
    {
      "cell_type": "code",
      "metadata": {
        "id": "AT_GXAoihX03"
      },
      "source": [
        "plt.figure()\n",
        "plt.plot(x,x,'r--')\n",
        "plt.plot(x,y1,'bs')\n",
        "plt.plot(x,y2,'g^')\n",
        "plt.title('Funciones exponenciales')\n",
        "plt.xlabel('X')\n",
        "plt.ylabel('Y')\n",
        "plt.show()"
      ],
      "execution_count": null,
      "outputs": []
    },
    {
      "cell_type": "code",
      "metadata": {
        "id": "Xm88aUrkhzQe"
      },
      "source": [
        "for x in range(10):\n",
        "  s = x**2\n",
        "  plt.plot(x,s,'r*')\n",
        "plt.show()"
      ],
      "execution_count": null,
      "outputs": []
    },
    {
      "cell_type": "markdown",
      "metadata": {
        "id": "MZQ7st2CiRcs"
      },
      "source": [
        "### Gráficas de barras\n",
        "\n",
        "Para hacer gráficas de barras necesitamos dos grupos de datos, las clases y el valor de cada clase."
      ]
    },
    {
      "cell_type": "code",
      "metadata": {
        "id": "H-O0VmSIiH_B"
      },
      "source": [
        "divisiones = ['A','B','C','D'] # Usamos una lista para las clases\n",
        "valores = [65,85,103,58] # Otra lista, ahora con números solamente\n",
        "\n",
        "plt.figure()\n",
        "plt.bar(divisiones, valores, color='blue')\n",
        "plt.title('Primera gráfica de barras')\n",
        "plt.xlabel('Clases')\n",
        "plt.ylabel('Valores')\n",
        "plt.show()"
      ],
      "execution_count": null,
      "outputs": []
    },
    {
      "cell_type": "code",
      "metadata": {
        "id": "jxtsVhski-gY"
      },
      "source": [
        "# Si queremos las barras horizontales\n",
        "\n",
        "plt.figure()\n",
        "plt.barh(divisiones, valores, color='green')\n",
        "plt.title('Barras horizontales')\n",
        "plt.xlabel('Ocurrencias')\n",
        "plt.ylabel('Clases')\n",
        "plt.show()"
      ],
      "execution_count": null,
      "outputs": []
    },
    {
      "cell_type": "markdown",
      "metadata": {
        "id": "crc5zZB4jUSL"
      },
      "source": [
        "### Gráficas de pastel\n",
        "\n",
        "Al igual que las gráficas de barras, necesitamos dos grupos de datos."
      ]
    },
    {
      "cell_type": "code",
      "metadata": {
        "id": "ohRyTEoIjSlS"
      },
      "source": [
        "zoo = ['Leones','Tigres','Jirafas','Zebras','Monos']\n",
        "cantidad = [10,8,4,50,100]\n",
        "\n",
        "plt.figure()\n",
        "plt.pie(cantidad,labels=zoo)\n",
        "plt.axis('equal')\n",
        "plt.title('Animales del zoológico')\n",
        "plt.legend(title='Animales')\n",
        "plt.show()"
      ],
      "execution_count": null,
      "outputs": []
    },
    {
      "cell_type": "markdown",
      "metadata": {
        "id": "4nEY8MubkzrF"
      },
      "source": [
        "### Histogramas\n",
        "\n",
        "Un histograma es parecido a una gráfica de barras. La diferencia es que en el histograma no hay datos \"etiquetados\" sino *bines* o grupos donde se colocan los datos.\n",
        "\n",
        "Estas gráficas nos sirven para conocer y comprender la distribución de un conjunto de datos."
      ]
    },
    {
      "cell_type": "code",
      "metadata": {
        "id": "JCBcgzNBkEJk"
      },
      "source": [
        "# Definimos el conjunto de datos\n",
        "valores = [100,25,50,90,10,150,87,63,45]\n",
        "bines = 3\n",
        "plt.figure()\n",
        "plt.hist(valores, bins=bines,# Necesitamos los datos y la cantidad de bines\n",
        "         histtype='bar', # Para definir el tipo de histograma\n",
        "         align='mid', # La alineación de las barras\n",
        "         rwidth=0.5) # Qué tan ancho serán las barras\n",
        "plt.title('Histograma')\n",
        "plt.xlabel('Bines')\n",
        "plt.ylabel('Cantidad')\n",
        "plt.show()"
      ],
      "execution_count": null,
      "outputs": []
    },
    {
      "cell_type": "markdown",
      "metadata": {
        "id": "PJDWEFrzmyBU"
      },
      "source": [
        "## Pandas\n",
        "\n",
        "* Es una biblioteca de software especializada en el manejo de bases de datos y de su análisis.\n",
        "\n",
        "* Ofrece estructuras de datos y operaciones para manipular tablas numéricas y series temporales.\n",
        "\n",
        "* Trabaja con objetos conocidos como **DataFrames**, similares a las tablas de datos.\n",
        "\n",
        "* Se pueden crear bases de datos desde cero, también se pueden importar archivos con datos (.csv, .xlsx, etc.)."
      ]
    },
    {
      "cell_type": "code",
      "metadata": {
        "id": "Nt_MY2OElirW"
      },
      "source": [
        "# Importamos la librería\n",
        "import pandas as pd"
      ],
      "execution_count": null,
      "outputs": []
    },
    {
      "cell_type": "code",
      "metadata": {
        "id": "FcYWUBKkP8SJ"
      },
      "source": [
        "# Para declarar un DataFrame se usa una sintaxis similar a los diccionarios\n",
        "\n",
        "df = pd.DataFrame(\n",
        "    {\n",
        "        \"Nombre\": ['Pedro','Pablo','Juan','Antonio'],\n",
        "        \"Edad\" : [15,19,22,32],\n",
        "        \"Escolaridad\": ['Secundaria','Preparatoria','Preparatoria','Posgrado']\n",
        "    }\n",
        ")\n",
        "\n",
        "df"
      ],
      "execution_count": null,
      "outputs": []
    },
    {
      "cell_type": "markdown",
      "metadata": {
        "id": "4CGmxFW5f60o"
      },
      "source": [
        "Cada columna de un **DataFrame** es una **Serie**. Podemos trabajar con una serie en específico"
      ]
    },
    {
      "cell_type": "code",
      "metadata": {
        "id": "D1NIS48kf1Ad"
      },
      "source": [
        "# Si quisieramos selecccionar una columna en específico\n",
        "df['Edad']"
      ],
      "execution_count": null,
      "outputs": []
    },
    {
      "cell_type": "markdown",
      "metadata": {
        "id": "GiNeseTYSvdo"
      },
      "source": [
        "Un **DataFrame** tiene muchas propiedades que nos pueden ser útiles."
      ]
    },
    {
      "cell_type": "code",
      "metadata": {
        "id": "uhPR13EBRYPQ"
      },
      "source": [
        "# Con el comando head() podemos ver el encabezado del DataFrame\n",
        "df.head()"
      ],
      "execution_count": null,
      "outputs": []
    },
    {
      "cell_type": "code",
      "metadata": {
        "id": "wpilG-I5TJA0"
      },
      "source": [
        "# El comando describe() nos regresa un resumen estadístico de las variables numéricas\n",
        "df.describe()"
      ],
      "execution_count": null,
      "outputs": []
    },
    {
      "cell_type": "code",
      "metadata": {
        "id": "1Iqdvv-YTUXI"
      },
      "source": [
        "# Con df.hist() obtenemos un histograma para cada variable numérica\n",
        "df.hist()"
      ],
      "execution_count": null,
      "outputs": []
    },
    {
      "cell_type": "markdown",
      "metadata": {
        "id": "VECiQp2NThzK"
      },
      "source": [
        "Como lo mencionamos, podemos usar archivos de datos para trabajar con ellos."
      ]
    },
    {
      "cell_type": "code",
      "metadata": {
        "id": "h1GCsawrUdb5"
      },
      "source": [
        "# Estas lineas de código permiten cargar archivos desde nuestra PC\n",
        "from google.colab import files\n",
        "upload = files.upload()"
      ],
      "execution_count": null,
      "outputs": []
    },
    {
      "cell_type": "code",
      "metadata": {
        "id": "yUFVb-UIUdPj"
      },
      "source": [
        "# Primero debemos leer el archivo\n",
        "# Después lo convertimos en un dataframe\n",
        "\n",
        "data = pd.read_csv('iris_dataset.csv')\n",
        "df1 = pd.DataFrame(data)"
      ],
      "execution_count": null,
      "outputs": []
    },
    {
      "cell_type": "code",
      "metadata": {
        "id": "DX8JymMKTcsB"
      },
      "source": [
        "# Repetimos las operaciones que hicimos antes\n",
        "df1.head(10)"
      ],
      "execution_count": null,
      "outputs": []
    },
    {
      "cell_type": "code",
      "metadata": {
        "id": "zEaxq1zjVnsL"
      },
      "source": [
        "df1.describe()"
      ],
      "execution_count": null,
      "outputs": []
    },
    {
      "cell_type": "code",
      "metadata": {
        "id": "hx3SYem5VplH"
      },
      "source": [
        "df1.hist()"
      ],
      "execution_count": null,
      "outputs": []
    },
    {
      "cell_type": "code",
      "metadata": {
        "id": "XC74QsONVssg"
      },
      "source": [
        "# Si desean obtener el histograma de una sola variable\n",
        "df1.hist(['sepal.length'])"
      ],
      "execution_count": null,
      "outputs": []
    },
    {
      "cell_type": "code",
      "metadata": {
        "id": "GgwldiFSfbJw"
      },
      "source": [
        "# En el caso de que quisieran graficar todas las variables al mismo tiempo\n",
        "df1.plot()"
      ],
      "execution_count": null,
      "outputs": []
    },
    {
      "cell_type": "code",
      "metadata": {
        "id": "PimSdAqRgufB"
      },
      "source": [
        "# O graficar una serie en específico\n",
        "df1[\"sepal.length\"].plot()"
      ],
      "execution_count": null,
      "outputs": []
    },
    {
      "cell_type": "code",
      "metadata": {
        "id": "s-keQmKvg4hb"
      },
      "source": [
        "# También hay disponibles otro tipo de graficas\n",
        "df1.plot.box()"
      ],
      "execution_count": null,
      "outputs": []
    },
    {
      "cell_type": "markdown",
      "metadata": {
        "id": "zr1NgwoLYKmq"
      },
      "source": [
        "# Funciones, definiciones y métodos"
      ]
    },
    {
      "cell_type": "markdown",
      "metadata": {
        "id": "QA7XkETTQNv0"
      },
      "source": [
        "Python incluye varias funciones que pueden ser de utilidad en nuestro día a día.\n",
        "\n",
        "Para usar estas funciones predefinidas se sigue la siguiente sintaxis\n",
        "\n",
        "*nombre de la funcion*(*variable*)"
      ]
    },
    {
      "cell_type": "markdown",
      "metadata": {
        "id": "NleySvZZQkwJ"
      },
      "source": [
        "Nombre | Descripción |\n",
        "-------|-------------|\n",
        "abs() | Devuelve el valor absoluto|\n",
        "bin() | Convierte un entero a binario|\n",
        "enumerate() | Devuelve un objeto enumerado |\n",
        "len() | Devuelve la longitud de un objeto|\n",
        "max() | Devuelve el valor máximo de un arreglo |\n",
        "min() | Devuelve el valor mínimo de un arreglo |\n",
        "print() | Despliega la información contenida en los paréntesis |\n",
        "range() | Crea una secuencia de números. Se puede indicar el inicio, fin e incrementos|"
      ]
    },
    {
      "cell_type": "code",
      "metadata": {
        "id": "h--dRSOGV3Za"
      },
      "source": [
        "# Definimos algunas variables\n",
        "x = 10\n",
        "y = -100\n",
        "lista = [54,23,67,90,0.5,10]\n",
        "\n",
        "# Ejemplo de abs()\n",
        "print(abs(y))\n",
        "\n",
        "# Ejemplo de bin()\n",
        "print(bin(x))\n",
        "\n",
        "#Ejemplo de len()\n",
        "print(len(lista))\n",
        "\n",
        "# Ejemplo de max() y min()\n",
        "print(max(lista))\n",
        "print(min(lista))\n",
        "\n",
        "# Ejemplo de print()\n",
        "print('Ejemplo de print')"
      ],
      "execution_count": null,
      "outputs": []
    },
    {
      "cell_type": "code",
      "metadata": {
        "id": "1saGItiASCCu"
      },
      "source": [
        "# Para los ejemplos de range() usaremos un ciclo for\n",
        "for i in range(10):\n",
        "  print(i)"
      ],
      "execution_count": null,
      "outputs": []
    },
    {
      "cell_type": "code",
      "metadata": {
        "id": "VDuSMvvHSInq"
      },
      "source": [
        "for i in range(5,10):\n",
        "  print(i)"
      ],
      "execution_count": null,
      "outputs": []
    },
    {
      "cell_type": "code",
      "metadata": {
        "id": "gVC35RWgSPHQ"
      },
      "source": [
        "for i in range(0,20,2):\n",
        "  print(i)"
      ],
      "execution_count": null,
      "outputs": []
    },
    {
      "cell_type": "markdown",
      "metadata": {
        "id": "PSCwWTlrSl2q"
      },
      "source": [
        "## Scripts\n",
        "\n",
        "Un *script* son varias líneas de código que se ejecutan **una sola vez** al ser llamadas.\n",
        "\n",
        "Un script puede contener una o varias **funciones**.\n",
        "\n",
        "Una función siempre regresa un **resultado**.\n",
        "\n",
        "Para declarar una función se usa la palabra clave *def()*.\n",
        "\n",
        "Veamos como se construye una función."
      ]
    },
    {
      "cell_type": "code",
      "metadata": {
        "id": "XQtUC6lSSRKD"
      },
      "source": [
        "def funcion():\n",
        "  print(\"Ejemplo de función\")"
      ],
      "execution_count": null,
      "outputs": []
    },
    {
      "cell_type": "code",
      "metadata": {
        "id": "-DtLXOy-TL_P"
      },
      "source": [
        "funcion()"
      ],
      "execution_count": null,
      "outputs": []
    },
    {
      "cell_type": "markdown",
      "metadata": {
        "id": "clN9niG_TPvh"
      },
      "source": [
        "Una función puede tener **parámetros** de entrada. Estos parámetros se deben de indicar dentro de los paréntesis. Si se requiere se puede establecer una parámetro por defecto."
      ]
    },
    {
      "cell_type": "code",
      "metadata": {
        "id": "cJ6bhCfaTNWa"
      },
      "source": [
        "def nombres(names):\n",
        "  print('Hola mi nombre es ' + names)\n"
      ],
      "execution_count": null,
      "outputs": []
    },
    {
      "cell_type": "markdown",
      "metadata": {
        "id": "Z7f9e4grTx56"
      },
      "source": [
        "La función anterior *nombres* decvuelve el texto *Hola mi nombre es* seguido del parámetro que ingresemos. \n",
        "\n",
        "Veamos unos ejemplos."
      ]
    },
    {
      "cell_type": "code",
      "metadata": {
        "id": "dSzw9BuiTwbD"
      },
      "source": [
        "nombres('Angel')\n",
        "nombres('Leonardo')\n",
        "nombres('Iron man')"
      ],
      "execution_count": null,
      "outputs": []
    },
    {
      "cell_type": "markdown",
      "metadata": {
        "id": "CWAOisqlUM0a"
      },
      "source": [
        "En el caso de que queramos que la función siempre regrese un valor debemos indicar el parámetro por default."
      ]
    },
    {
      "cell_type": "code",
      "metadata": {
        "id": "OkwVyM4FUKgO"
      },
      "source": [
        "### Modificando la función nombres()\n",
        "\n",
        "def nombres(names='Nombre genérico'):\n",
        "  print('Hola mi nombre es ' + names)"
      ],
      "execution_count": null,
      "outputs": []
    },
    {
      "cell_type": "code",
      "metadata": {
        "id": "-u28wrceUmkl"
      },
      "source": [
        "# Ejemplos\n",
        "nombres('Rafael')\n",
        "nombres('Donatello')\n",
        "nombres()"
      ],
      "execution_count": null,
      "outputs": []
    },
    {
      "cell_type": "markdown",
      "metadata": {
        "id": "tXlne-XPVXXV"
      },
      "source": [
        "### *Args\n",
        "Con el comando **args* podemos n números de parámetros a una función.\n",
        "\n",
        "Por convención usamos la palabra **args aunque se puede usar cualquier palabra, siempre y cuando esté después de un asterisco."
      ]
    },
    {
      "cell_type": "code",
      "metadata": {
        "id": "-WaSW2aCUtjw"
      },
      "source": [
        "nombres('Miguel','Angel')"
      ],
      "execution_count": null,
      "outputs": []
    },
    {
      "cell_type": "markdown",
      "metadata": {
        "id": "xoCXMvtfYS9q"
      },
      "source": [
        "En la celda anterior ingresamos dos nombres como parámetros a la función. Python nos regresa un error porque sólo declaramos un parámetro como entrada.\n",
        "\n",
        "Para solucionar esto es donde entra en acción **args"
      ]
    },
    {
      "cell_type": "code",
      "metadata": {
        "id": "1qCOoWFeYRqS"
      },
      "source": [
        "def nombres_args(*args):\n",
        "  print('Mi nombre es ', args)\n"
      ],
      "execution_count": null,
      "outputs": []
    },
    {
      "cell_type": "code",
      "metadata": {
        "id": "AfOgawC7YpTg"
      },
      "source": [
        "nombres_args('Miguel','Angel','Donatello','Rafael')"
      ],
      "execution_count": null,
      "outputs": []
    },
    {
      "cell_type": "markdown",
      "metadata": {
        "id": "6Y1JIirnY-0R"
      },
      "source": [
        "Si quisieramos que despliegue uno por uno los nombres usamos un ciclo *for*, ya que el tipo de entrada es una **tupla**."
      ]
    },
    {
      "cell_type": "code",
      "metadata": {
        "id": "oLgC1pxoYvoW"
      },
      "source": [
        "def nombres2(*args):\n",
        "  for arg in args:\n",
        "    print('Mi nombre es ' + arg)"
      ],
      "execution_count": null,
      "outputs": []
    },
    {
      "cell_type": "code",
      "metadata": {
        "id": "U_KfD1AEZQZl"
      },
      "source": [
        "nombres2('Miguel Angel','Rafael','Donatello','Leonardo')"
      ],
      "execution_count": null,
      "outputs": []
    },
    {
      "cell_type": "markdown",
      "metadata": {
        "id": "BpuSw0NGaEdO"
      },
      "source": [
        "### La palabra clave return()\n",
        "\n",
        "Hasta ahora hemos usado la función *print()* para desplegar los resultados de un script. Esto es útil mas no es lo ideal. Para darle un aspecto más profesional podemmos hacer que nuestros scritps regresen un resultado con la palabra clave **return()**. Todo lo que esté dentro de los paréntesis será la salida del script."
      ]
    },
    {
      "cell_type": "code",
      "metadata": {
        "id": "N0akn9QfZW5u"
      },
      "source": [
        "# Creamos dos funciones\n",
        "\n",
        "def suma1(x,y):\n",
        "  print('La suma es:', x+y)\n",
        "\n",
        "def suma2(x,y):\n",
        "  s = x + y\n",
        "  return(s)"
      ],
      "execution_count": null,
      "outputs": []
    },
    {
      "cell_type": "code",
      "metadata": {
        "id": "zYfKjgMoax93"
      },
      "source": [
        "# Declaramos dos variables\n",
        "x = 55\n",
        "y = 45\n",
        "\n",
        "suma1(x,y)\n",
        "suma2(x,y)"
      ],
      "execution_count": null,
      "outputs": []
    },
    {
      "cell_type": "markdown",
      "metadata": {
        "id": "K6ZR71SGa-3l"
      },
      "source": [
        "Aunque en teoría el resultado es el mismo, con la palabra **return()** nos aseguramos que el script tenga **una sola salida** y que dicha salida sea el resultado que realmente queremos."
      ]
    },
    {
      "cell_type": "code",
      "metadata": {
        "id": "xo1b--mVa5XN"
      },
      "source": [
        "# Crearemos una funcion para multiplicar números\n",
        "def multis(x):\n",
        "  return x*8\n"
      ],
      "execution_count": null,
      "outputs": []
    },
    {
      "cell_type": "code",
      "metadata": {
        "id": "o3AgDrUKcrXB"
      },
      "source": [
        "print(multis(3))\n",
        "print(multis(4))\n",
        "print(multis(5))"
      ],
      "execution_count": null,
      "outputs": []
    },
    {
      "cell_type": "markdown",
      "metadata": {
        "id": "4cQC0Yaic8ms"
      },
      "source": [
        "Ahora que vimos como se construyen las funciones vamos a hacer un ejemplo más complejo.\n",
        "\n",
        "Usaremos el problema de determinar el tipo de triángulo como base."
      ]
    },
    {
      "cell_type": "code",
      "metadata": {
        "id": "TkIq__FLcu8K"
      },
      "source": [
        "def triangulo(a,b,c,):\n",
        "  if a == b == c:\n",
        "    tipo = 'Triángulo equilátero'\n",
        "  elif a == c and a != b and c !=b:\n",
        "    tipo = 'Triángulo isósceles'\n",
        "  else:\n",
        "    tipo = 'Triángulo escaleno'\n",
        "\n",
        "  return(tipo)"
      ],
      "execution_count": null,
      "outputs": []
    },
    {
      "cell_type": "code",
      "metadata": {
        "id": "9Y99DUFgdzap"
      },
      "source": [
        "print(triangulo(10,10,10)) # Lados iguales\n",
        "print(triangulo(10,9,10)) # Dos lados iguales\n",
        "print(triangulo(10,9,8)) # Lados diferentes"
      ],
      "execution_count": null,
      "outputs": []
    },
    {
      "cell_type": "markdown",
      "metadata": {
        "id": "X9rilsuceRt8"
      },
      "source": [
        "La función funciona de maravilla, pero sólo nosotros sabemos cómo funciona, qué tipos de datos hay que ingresar y qué tipo de dato regresa.\n",
        "\n",
        "Para dar un mejor entendimiento, presentación y claridad aquí están algunos tips:\n",
        "* Dar ejemplos\n",
        "* Informar el tipo de dato que se ingresa y retorna\n",
        "* Escojer adecuadamente el nombre de las variables\n",
        "* Proporcionar una descripción breve del funcionamiento mediante comentarios"
      ]
    },
    {
      "cell_type": "code",
      "metadata": {
        "id": "mJtm1UV_ePtQ"
      },
      "source": [
        "# Mejorando la función triángulo()\n",
        "\n",
        "def triangulo(a,b,c):\n",
        "  ''' (numero) -> string\n",
        "      Regresa el tipo de triángulo de acuerdo a los lados ingresados.\n",
        "  \n",
        "      >>> triangulo(10,10,10)\n",
        "        Triángulo equilatero\n",
        "      >>> triangulo(10,9,10)\n",
        "        Triángulo isósceles\n",
        "      >>> triangulo(10,9,8)\n",
        "        Triángulo escaleno\n",
        "  '''\n",
        "  \n",
        "  if a == b == c:\n",
        "    tipo = \"Triángulo equilatero\"\n",
        "  elif a == c and a != b and c != b:\n",
        "    tipo = \"Triángulo isósceles\"\n",
        "  else:\n",
        "    tipo = \"Triángulo escaleno\"\n",
        "  return(tipo)"
      ],
      "execution_count": null,
      "outputs": []
    },
    {
      "cell_type": "code",
      "metadata": {
        "id": "2qQ2em4ufKXw"
      },
      "source": [
        "print(triangulo(10,10,10))\n",
        "print(triangulo(10,9,10))\n",
        "print(triangulo(10,9,8))"
      ],
      "execution_count": null,
      "outputs": []
    },
    {
      "cell_type": "code",
      "metadata": {
        "id": "JUbced3KfOZd"
      },
      "source": [
        ""
      ],
      "execution_count": null,
      "outputs": []
    }
  ]
}